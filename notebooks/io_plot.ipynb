{
 "cells": [
  {
   "cell_type": "code",
   "execution_count": 7,
   "metadata": {},
   "outputs": [],
   "source": [
    "import os\n",
    "import warnings\n",
    "\n",
    "import cartopy.crs as ccrs\n",
    "import matplotlib.pyplot as plt\n",
    "\n",
    "\n",
    "import pyart\n",
    "from pyart.testing import get_test_data\n",
    "\n",
    "warnings.filterwarnings('ignore')"
   ]
  },
  {
   "cell_type": "markdown",
   "metadata": {},
   "source": [
    "## Reading in Data Using Py-ART"
   ]
  },
  {
   "cell_type": "markdown",
   "metadata": {},
   "source": [
    "When reading in a radar file, we use the `pyart.io.read` module.\n",
    "\n",
    "`pyart.io.read` can read a variety of different radar formats, such as Cf/Radial, LASSEN, and more. \n",
    "The documentation on what formats can be read by Py-ART can be found here:\n",
    "\n",
    "* [Py-ART IO Documentation](https://arm-doe.github.io/pyart/API/generated/pyart.io.html)\n",
    "\n",
    "For most file formats listed on the page, using `pyart.io.read` should suffice since Py-ART has the ability to automatically detect the file format."
   ]
  },
  {
   "cell_type": "markdown",
   "metadata": {},
   "source": [
    "Let's use a sample data file from `pyart` - which is [**cfradial** format](https://github.com/NCAR/CfRadial).\n",
    "\n",
    "When we read this in, we get a [`pyart.Radar` object](https://arm-doe.github.io/pyart/API/generated/pyart.core.Radar.html#pyart.core.Radar)!"
   ]
  },
  {
   "cell_type": "code",
   "execution_count": 8,
   "metadata": {},
   "outputs": [
    {
     "data": {
      "text/plain": [
       "<pyart.core.radar.Radar at 0x2abd25ed8640>"
      ]
     },
     "execution_count": 8,
     "metadata": {},
     "output_type": "execute_result"
    }
   ],
   "source": [
    "file = get_test_data('swx_20120520_0641.nc')\n",
    "radar = pyart.io.read(file)\n",
    "radar"
   ]
  },
  {
   "cell_type": "markdown",
   "metadata": {},
   "source": [
    "### Investigate the [`pyart.Radar` object](https://arm-doe.github.io/pyart/API/generated/pyart.core.Radar.html#pyart.core.Radar)"
   ]
  },
  {
   "cell_type": "markdown",
   "metadata": {},
   "source": [
    "Within this [`pyart.Radar` object](https://arm-doe.github.io/pyart/API/generated/pyart.core.Radar.html#pyart.core.Radar) object are the actual data fields.\n",
    "\n",
    "This is where data such as reflectivity and velocity are stored.\n",
    "\n",
    "To see what fields are present we can add the fields and keys additions to the variable where the radar object is stored."
   ]
  },
  {
   "cell_type": "code",
   "execution_count": 9,
   "metadata": {},
   "outputs": [
    {
     "data": {
      "text/plain": [
       "dict_keys(['corrected_reflectivity_horizontal', 'reflectivity_horizontal', 'recalculated_diff_phase', 'specific_attenuation', 'unf_dp_phase_shift', 'mean_doppler_velocity', 'diff_phase', 'rain_rate_A', 'norm_coherent_power', 'dp_phase_shift', 'diff_reflectivity', 'proc_dp_phase_shift', 'copol_coeff'])"
      ]
     },
     "execution_count": 9,
     "metadata": {},
     "output_type": "execute_result"
    }
   ],
   "source": [
    "radar.fields.keys()"
   ]
  },
  {
   "cell_type": "markdown",
   "metadata": {},
   "source": [
    "#### Extract a sample data field"
   ]
  },
  {
   "cell_type": "markdown",
   "metadata": {},
   "source": [
    "The fields are stored in a dictionary, each containing coordinates, units and more.\n",
    "All can be accessed by just adding the fields addition to the radar object variable.\n",
    "\n",
    "For an individual field, we add a string in brackets after the fields addition to see\n",
    "the contents of that field.\n",
    "\n",
    "Let's take a look at `'corrected_reflectivity_horizontal'`, which is a common field to investigate."
   ]
  },
  {
   "cell_type": "code",
   "execution_count": 10,
   "metadata": {},
   "outputs": [
    {
     "name": "stdout",
     "output_type": "stream",
     "text": [
      "{'_FillValue': -9999.0, 'least_significant_digit': 2, 'units': 'dBZ', 'long_name': 'equivalent_reflectivity_factor', 'valid_min': -45.0, 'valid_max': 80.0, 'standard_name': 'equivalent_reflectivity_factor', 'data': masked_array(\n",
      "  data=[[-5.671875, 2.28125, -8.1171875, ..., --, -13.4765625, --],\n",
      "        [-5.6171875, 1.8984375, -10.0703125, ..., -2.6796875, -1.5390625,\n",
      "         --],\n",
      "        [-5.0390625, 2.625, -11.484375, ..., -8.984375, --, --],\n",
      "        ...,\n",
      "        [-5.9375, 1.46875, -12.3203125, ..., --, --, --],\n",
      "        [-5.9609375, 1.53125, -12.84375, ..., --, --, --],\n",
      "        [-8.7890625, 2.9140625, -12.09375, ..., --, --, --]],\n",
      "  mask=[[False, False, False, ...,  True, False,  True],\n",
      "        [False, False, False, ..., False, False,  True],\n",
      "        [False, False, False, ..., False,  True,  True],\n",
      "        ...,\n",
      "        [False, False, False, ...,  True,  True,  True],\n",
      "        [False, False, False, ...,  True,  True,  True],\n",
      "        [False, False, False, ...,  True,  True,  True]],\n",
      "  fill_value=-9999.0,\n",
      "  dtype=float32)}\n"
     ]
    }
   ],
   "source": [
    "print(radar.fields['corrected_reflectivity_horizontal'])"
   ]
  },
  {
   "cell_type": "markdown",
   "metadata": {},
   "source": [
    "We can go even further in the dictionary and access the actual reflectivity data.\n",
    "\n",
    "We use add `'data'` at the end, which will extract the **data array** (which is a masked numpy array) from the dictionary."
   ]
  },
  {
   "cell_type": "code",
   "execution_count": 11,
   "metadata": {},
   "outputs": [
    {
     "name": "stdout",
     "output_type": "stream",
     "text": [
      "<class 'numpy.ma.core.MaskedArray'> [[-5.671875 2.28125 -8.1171875 ... -- -13.4765625 --]\n",
      " [-5.6171875 1.8984375 -10.0703125 ... -2.6796875 -1.5390625 --]\n",
      " [-5.0390625 2.625 -11.484375 ... -8.984375 -- --]\n",
      " ...\n",
      " [-5.9375 1.46875 -12.3203125 ... -- -- --]\n",
      " [-5.9609375 1.53125 -12.84375 ... -- -- --]\n",
      " [-8.7890625 2.9140625 -12.09375 ... -- -- --]]\n"
     ]
    }
   ],
   "source": [
    "reflectivity = radar.fields['corrected_reflectivity_horizontal']['data']\n",
    "print(type(reflectivity), reflectivity)"
   ]
  },
  {
   "cell_type": "markdown",
   "metadata": {},
   "source": [
    "Lets' check the size of this array"
   ]
  },
  {
   "cell_type": "code",
   "execution_count": null,
   "metadata": {},
   "outputs": [],
   "source": [
    "reflectivity.shape"
   ]
  },
  {
   "cell_type": "markdown",
   "metadata": {},
   "source": [
    "This reflectivity data array, numpy array, is a two-dimensional array with dimensions:\n",
    "- Gates (number of samples away from the radar)\n",
    "- Rays (direction around the radar)"
   ]
  },
  {
   "cell_type": "code",
   "execution_count": null,
   "metadata": {},
   "outputs": [],
   "source": [
    "print(radar.nrays, radar.ngates)"
   ]
  },
  {
   "cell_type": "markdown",
   "metadata": {},
   "source": [
    "If we wanted to look the 300th ray, at the second gate, we would use something like the following:"
   ]
  },
  {
   "cell_type": "code",
   "execution_count": null,
   "metadata": {},
   "outputs": [],
   "source": [
    "print(reflectivity[300, 2])"
   ]
  },
  {
   "cell_type": "markdown",
   "metadata": {},
   "source": [
    "## Plotting our Radar Data"
   ]
  },
  {
   "cell_type": "markdown",
   "metadata": {},
   "source": [
    "### An Overview of Py-ART Plotting Utilities\n",
    "\n",
    "Now that we have loaded the data and inspected it, the next logical thing to do is to visualize the data! Py-ART's visualization functionality is done through the objects in the [pyart.graph](https://arm-doe.github.io/pyart/API/generated/pyart.graph.html) module.\n",
    "\n",
    "In Py-ART there are 4 primary visualization classes in pyart.graph:\n",
    "\n",
    "* [RadarDisplay](https://meteoswiss.github.io/pyart/API/generated/pyart.graph.RadarDisplay.html)\n",
    "* [RadarMapDisplay](https://meteoswiss.github.io/pyart/API/generated/pyart.graph.RadarMapDisplay.html)\n",
    "* [AirborneRadarDisplay](https://meteoswiss.github.io/pyart/API/generated/pyart.graph.AirborneRadarDisplay.html)\n",
    "\n",
    "Plotting grid data\n",
    "* [GridMapDisplay](https://meteoswiss.github.io/pyart/API/generated/pyart.graph.GridMapDisplay.html)\n",
    "\n",
    "### Use the [RadarMapDisplay](https://meteoswiss.github.io/pyart/API/generated/pyart.graph.RadarMapDisplay.html) with our data\n",
    "\n",
    "For the this example, we will be using `RadarMapDisplay`, using Cartopy to deal with geographic coordinates.\n",
    "\n",
    "\n",
    "We start by creating a figure first."
   ]
  },
  {
   "cell_type": "code",
   "execution_count": null,
   "metadata": {},
   "outputs": [],
   "source": [
    "fig = plt.figure(figsize=[10, 10])"
   ]
  },
  {
   "cell_type": "markdown",
   "metadata": {},
   "source": [
    "Once we have a figure, let's add our `RadarMapDisplay`"
   ]
  },
  {
   "cell_type": "code",
   "execution_count": null,
   "metadata": {},
   "outputs": [],
   "source": [
    "fig = plt.figure(figsize=[10, 10])\n",
    "display = pyart.graph.RadarMapDisplay(radar)"
   ]
  },
  {
   "cell_type": "markdown",
   "metadata": {},
   "source": [
    "Adding our map display without specifying a field to plot **won't do anything** we need to specifically add a field to field using `.plot_ppi_map()`"
   ]
  },
  {
   "cell_type": "code",
   "execution_count": null,
   "metadata": {},
   "outputs": [],
   "source": [
    "display.plot_ppi_map('corrected_reflectivity_horizontal')"
   ]
  },
  {
   "cell_type": "markdown",
   "metadata": {},
   "source": [
    "By default, it will plot the elevation scan, the the default colormap from `Matplotlib`... let's customize!\n",
    "\n",
    "We add the following arguements:\n",
    "- `sweep=3` - The fourth elevation scan (since we are using Python indexing)\n",
    "- `vmin=-20` - Minimum value for our plotted field/colorbar\n",
    "- `vmax=60` - Maximum value for our plotted field/colorbar\n",
    "- `projection=ccrs.PlateCarree()` - Cartopy latitude/longitude coordinate system\n",
    "- `cmap='pyart_HomeyerRainbow'` - Colormap to use, selecting one provided by PyART "
   ]
  },
  {
   "cell_type": "code",
   "execution_count": null,
   "metadata": {},
   "outputs": [],
   "source": [
    "fig = plt.figure(figsize=[12, 12])\n",
    "display = pyart.graph.RadarMapDisplay(radar)\n",
    "display.plot_ppi_map('corrected_reflectivity_horizontal',\n",
    "                     sweep=3,\n",
    "                     vmin=-20,\n",
    "                     vmax=60,\n",
    "                     projection=ccrs.PlateCarree(),\n",
    "                     cmap='pyart_HomeyerRainbow')\n",
    "plt.show()"
   ]
  },
  {
   "cell_type": "markdown",
   "metadata": {},
   "source": [
    "You can change many parameters in the graph by changing the arguments to plot_ppi_map. As you can recall from earlier. simply view these arguments in a Jupyter notebook by typing:"
   ]
  },
  {
   "cell_type": "code",
   "execution_count": null,
   "metadata": {},
   "outputs": [],
   "source": [
    "display.plot_ppi_map?"
   ]
  },
  {
   "cell_type": "markdown",
   "metadata": {},
   "source": [
    "For example, let's change the colormap to something different"
   ]
  },
  {
   "cell_type": "code",
   "execution_count": null,
   "metadata": {},
   "outputs": [],
   "source": [
    "fig = plt.figure(figsize=[12, 12])\n",
    "display = pyart.graph.RadarMapDisplay(radar)\n",
    "display.plot_ppi_map('corrected_reflectivity_horizontal',\n",
    "                     sweep=3,\n",
    "                     vmin=-20,\n",
    "                     vmax=60,\n",
    "                     projection=ccrs.PlateCarree(),\n",
    "                     cmap='pyart_Carbone42')\n",
    "plt.show()"
   ]
  },
  {
   "cell_type": "markdown",
   "metadata": {},
   "source": [
    "Let's take a look at a different field - for example, correlation coefficient (`corr_coeff`)"
   ]
  },
  {
   "cell_type": "code",
   "execution_count": null,
   "metadata": {},
   "outputs": [],
   "source": [
    "fig = plt.figure(figsize=[12, 12])\n",
    "display = pyart.graph.RadarMapDisplay(radar)\n",
    "display.plot_ppi_map('copol_coeff',\n",
    "                     sweep=0,\n",
    "                     vmin=0.8,\n",
    "                     vmax=1.,\n",
    "                     projection=ccrs.PlateCarree(),\n",
    "                     cmap='pyart_Carbone42')\n",
    "plt.show()"
   ]
  },
  {
   "cell_type": "markdown",
   "metadata": {},
   "source": [
    "---\n",
    "## Summary\n",
    "Within this notebook, we covered the basics of working with radar data using `pyart`, including:\n",
    "- Reading in a file using `pyart.io`\n",
    "- Investigating the `Radar` object\n",
    "- Visualizing radar data using the `RadarMapDisplay`\n",
    "\n",
    "### What's Next\n",
    "In the next few notebooks, we walk through gridding radar data, applying data cleaning methods, and advanced visualization methods!"
   ]
  },
  {
   "cell_type": "markdown",
   "metadata": {},
   "source": [
    "## Resources and References\n",
    "Py-ART essentials links:\n",
    "\n",
    "* [Landing page](https://meteoswiss.github.io/pyart/)\n",
    "* [Examples](https://meteoswiss.github.io/pyart/examples/index.html)\n",
    "* [Notebook Gallery](https://meteoswiss.github.io/pyart/notebook-gallery.html)\n",
    "* [Source Code](https://github.com/MeteoSwiss/pyart)\n",
    "* [Issue Tracker](https://github.com/MeteoSwiss/pyart/issues)"
   ]
  }
 ],
 "metadata": {
  "kernelspec": {
   "display_name": "rainforest_tests",
   "language": "python",
   "name": "python3"
  },
  "language_info": {
   "codemirror_mode": {
    "name": "ipython",
    "version": 3
   },
   "file_extension": ".py",
   "mimetype": "text/x-python",
   "name": "python",
   "nbconvert_exporter": "python",
   "pygments_lexer": "ipython3",
   "version": "3.10.0"
  }
 },
 "nbformat": 4,
 "nbformat_minor": 2
}
